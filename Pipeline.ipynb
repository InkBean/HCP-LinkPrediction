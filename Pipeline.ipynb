{
 "cells": [
  {
   "cell_type": "code",
   "execution_count": 1,
   "id": "5811709a",
   "metadata": {},
   "outputs": [],
   "source": [
    "from ipynb.fs.full.dp_func1 import *"
   ]
  },
  {
   "cell_type": "code",
   "execution_count": 2,
   "id": "285080ae",
   "metadata": {},
   "outputs": [],
   "source": [
    "PATH = os.getcwd()\n",
    "num_individuals = 30\n",
    "\n",
    "scaling_params = {\n",
    "    \"apply_log\" : True,\n",
    "    \"beta\" : 1,\n",
    "    \"coverage\" : \"whole\",\n",
    "    \"weigh_topo\" : False,\n",
    "    \"scales_known\" : [2],\n",
    "    \"scales_toPredict\" : [3],\n",
    "    \"isAverage\": True,\n",
    "    \"isGraph\": False\n",
    "}\n",
    "\n",
    "path_dict = {\n",
    "    \"PATH\": PATH,\n",
    "    \"distance_path\": PATH + \"/\" + dist_p,\n",
    "    \"structures_folder\": PATH + \"/\" + struct_p,\n",
    "    \"isTrain\": True,\n",
    "    \"testModel_isAvg\": True,\n",
    "    \"testSet_isAvg\":True,\n",
    "    \"test_fold\": 1\n",
    "}"
   ]
  },
  {
   "cell_type": "code",
   "execution_count": 3,
   "id": "659adda7",
   "metadata": {},
   "outputs": [],
   "source": [
    "scaling_params[\"scales_known\"] = [1,2,3]\n",
    "scaling_params[\"scales_toPredict\"] = [4,5,6,7,8]\n",
    "scaling_params[\"apply_log\"] = True\n",
    "scaling_params[\"beta\"] = 1\n",
    "scaling_params[\"isAverage\"] = True\n",
    "scaling_params[\"isGraph\"] = True\n",
    "\n",
    "path_dict[\"testModel_isAvg\"] = False\n",
    "path_dict[\"testSet_isAvg\"] = False\n",
    "path_dict[\"test_fold\"] = 1\n",
    "path_dict[\"isTrain\"] = True\n",
    "\n",
    "num_individuals = 20"
   ]
  },
  {
   "cell_type": "code",
   "execution_count": 4,
   "id": "8b00f0de",
   "metadata": {
    "scrolled": true
   },
   "outputs": [
    {
     "name": "stdout",
     "output_type": "stream",
     "text": [
      "Creation of the directory /GraphAvgData/whole_123to45678_Log failed\n",
      "graph\n",
      "(129600,)\n",
      "side length: 360\n",
      "avg!graph\n",
      "side length: 360\n",
      "C:\\Users\\Junxi\\Documents\\HCP-2022/GraphAvgData/whole_123to45678_Log\n",
      "C:\\Users\\Junxi\\Documents\\HCP-2022/GraphAvgData/whole_123to45678_Log\n",
      "C:\\Users\\Junxi\\Documents\\HCP-2022/GraphAvgData/whole_123to45678_Log/AVG_AM.csv\n"
     ]
    }
   ],
   "source": [
    "to_dataset(subid_list, path_dict, scaling_params, num_individuals)"
   ]
  },
  {
   "cell_type": "code",
   "execution_count": null,
   "id": "bfe0a757",
   "metadata": {},
   "outputs": [],
   "source": []
  }
 ],
 "metadata": {
  "kernelspec": {
   "display_name": "Python 3 (ipykernel)",
   "language": "python",
   "name": "python3"
  },
  "language_info": {
   "codemirror_mode": {
    "name": "ipython",
    "version": 3
   },
   "file_extension": ".py",
   "mimetype": "text/x-python",
   "name": "python",
   "nbconvert_exporter": "python",
   "pygments_lexer": "ipython3",
   "version": "3.7.11"
  }
 },
 "nbformat": 4,
 "nbformat_minor": 5
}
