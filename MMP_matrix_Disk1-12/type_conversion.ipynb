{
 "cells": [
  {
   "cell_type": "code",
   "execution_count": 7,
   "id": "b6b58c1d",
   "metadata": {},
   "outputs": [
    {
     "name": "stdout",
     "output_type": "stream",
     "text": [
      "C:\\Users\\Junxi\\Documents\\MMP_matrix_Disk1-12/Disk\n"
     ]
    }
   ],
   "source": [
    "import os\n",
    "cur_dir = os.getcwd()\n",
    "\n",
    "f = cur_dir + \"/Disk\"\n",
    "\n",
    "print(f)"
   ]
  },
  {
   "cell_type": "code",
   "execution_count": 8,
   "id": "4fc5be4e",
   "metadata": {},
   "outputs": [],
   "source": [
    "#Dictionary for extension mappings \n",
    "# rename_dict = {'txt': 'jpg', 'doc': 'mp3', 'pdf': 'mp4'}\n",
    "\n",
    "for i in range (1,13):\n",
    "    folder = f + str(i)\n",
    "    for filename in os.listdir(folder):\n",
    "        #Get the extension and remove . from it\n",
    "        base_file, ext = os.path.splitext(filename)\n",
    "        ext = ext.replace('.','')\n",
    "\n",
    "        new_ext = 'csv'\n",
    "        new_file = base_file + '.' + new_ext\n",
    "\n",
    "        old_path = os.path.join(folder, filename)\n",
    "        new_path = os.path.join(folder, new_file)\n",
    "\n",
    "        #Rename the file\n",
    "        os.rename(old_path, new_path)"
   ]
  },
  {
   "cell_type": "code",
   "execution_count": null,
   "id": "c4405eab",
   "metadata": {},
   "outputs": [],
   "source": []
  }
 ],
 "metadata": {
  "kernelspec": {
   "display_name": "Python 3 (ipykernel)",
   "language": "python",
   "name": "python3"
  },
  "language_info": {
   "codemirror_mode": {
    "name": "ipython",
    "version": 3
   },
   "file_extension": ".py",
   "mimetype": "text/x-python",
   "name": "python",
   "nbconvert_exporter": "python",
   "pygments_lexer": "ipython3",
   "version": "3.7.11"
  }
 },
 "nbformat": 4,
 "nbformat_minor": 5
}
